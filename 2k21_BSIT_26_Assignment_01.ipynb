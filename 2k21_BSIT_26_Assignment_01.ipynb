{
  "nbformat": 4,
  "nbformat_minor": 0,
  "metadata": {
    "colab": {
      "provenance": [],
      "authorship_tag": "ABX9TyPNYgbLJk/Ld79qSTCcbWot",
      "include_colab_link": true
    },
    "kernelspec": {
      "name": "python3",
      "display_name": "Python 3"
    },
    "language_info": {
      "name": "python"
    }
  },
  "cells": [
    {
      "cell_type": "markdown",
      "metadata": {
        "id": "view-in-github",
        "colab_type": "text"
      },
      "source": [
        "<a href=\"https://colab.research.google.com/github/anasmalik8882/2k21-MKIT-26_Assignment/blob/main/2k21_BSIT_26_Assignment_01.ipynb\" target=\"_parent\"><img src=\"https://colab.research.google.com/assets/colab-badge.svg\" alt=\"Open In Colab\"/></a>"
      ]
    },
    {
      "cell_type": "code",
      "execution_count": null,
      "metadata": {
        "colab": {
          "base_uri": "https://localhost:8080/"
        },
        "id": "GRW2JNurDiew",
        "outputId": "dca5a0ac-3615-4a2f-fec2-e273b1b4d767"
      },
      "outputs": [
        {
          "output_type": "stream",
          "name": "stdout",
          "text": [
            "Enter Your Roll Number: 26\n",
            "1 2 3 4 5 6 7 8 9 10 11 12 13 14 15 16 17 18 19 20 21 22 23 24 25 26 "
          ]
        }
      ],
      "source": [
        "#   ---->     TASK 1\n",
        "var_roll_no = int(input(\"Enter Your Roll Number: \"))\n",
        "for index in range(1,49):\n",
        "  print(index, end = \" \")\n",
        "  if index == var_roll_no:\n",
        "    break\n",
        "  "
      ]
    },
    {
      "cell_type": "code",
      "source": [
        "#   ---->     TASK 2\n",
        "var_freind_1 = int(input(\"Enter the Roll Number First Friend: \"))\n",
        "var_freind_2 = int(input(\"Enter the Roll Number Second Friend: \"))\n",
        "var_freind_3 = int(input(\"Enter the Roll Number Third Friend: \"))\n",
        "var_freind_4 = int(input(\"Enter the Roll Number Fourth Friend: \"))\n",
        "var_freind_5 = int(input(\"Enter the Roll Number Fifth Friend: \"))\n",
        "for index in range(1,49):\n",
        "  if index == var_freind_1 or index == var_freind_2 or index == var_freind_3 or index == var_freind_4 or index == var_freind_5:\n",
        "    continue\n",
        "  print(index, end = \" \")"
      ],
      "metadata": {
        "colab": {
          "base_uri": "https://localhost:8080/"
        },
        "id": "5BV9d05PHU9R",
        "outputId": "54bba83a-d6b9-4871-e453-dd9933267367"
      },
      "execution_count": null,
      "outputs": [
        {
          "output_type": "stream",
          "name": "stdout",
          "text": [
            "Enter the Roll Number First Friend: 20\n",
            "Enter the Roll Number Second Friend: 13\n",
            "Enter the Roll Number Third Friend: 96\n",
            "Enter the Roll Number Fourth Friend: 38\n",
            "Enter the Roll Number Fifth Friend: 55\n",
            "1 2 3 4 5 6 7 8 9 10 11 12 14 15 16 17 18 19 21 22 23 24 25 26 27 28 29 30 31 32 33 34 35 36 37 39 40 41 42 43 44 45 46 47 48 "
          ]
        }
      ]
    },
    {
      "cell_type": "code",
      "source": [
        "#   ---->     TASK 3 (A)\n",
        "subject = []\n",
        "marks = []\n",
        "student = {}\n",
        "for index in range(6):\n",
        "  subject_name = input(\"Enter Subject Name: \")\n",
        "  subject_marks = int(input(\"Enter the Marks: \"))\n",
        "  if subject_marks > 100:\n",
        "    print(\"Marks should be in between 0 and 100. \")\n",
        "    subject_marks = int(input(\"Enter the Marks: \"))\n",
        "  subject.append(subject_name)\n",
        "  marks.append(subject_marks)\n",
        "  student[subject[index]] = marks[index]\n",
        "print(student)"
      ],
      "metadata": {
        "colab": {
          "base_uri": "https://localhost:8080/"
        },
        "id": "Xj3Uc1Y76MLW",
        "outputId": "136b5dcd-065b-436d-8e60-47208f4ef90f"
      },
      "execution_count": null,
      "outputs": [
        {
          "output_type": "stream",
          "name": "stdout",
          "text": [
            "Enter Subject Name: Islamiyat\n",
            "Enter the Marks: 85\n",
            "Enter Subject Name: Programming Fundamentals\n",
            "Enter the Marks: 92\n",
            "Enter Subject Name: English\n",
            "Enter the Marks: 44\n",
            "Enter Subject Name: ICT\n",
            "Enter the Marks: 82\n",
            "Enter Subject Name: Basic Electronics\n",
            "Enter the Marks: 700\n",
            "Marks should be in between 0 and 100. \n",
            "Enter the Marks: 70\n",
            "Enter Subject Name: Calculas\n",
            "Enter the Marks: 80\n",
            "{'Islamiyat': 85, 'Programming Fundamentals': 92, 'English': 44, 'ICT': 82, 'Basic Electronics': 70, 'Calculas': 80}\n"
          ]
        }
      ]
    },
    {
      "cell_type": "code",
      "source": [
        "#   ---->     TASK 3 (B)\n",
        "count = 0\n",
        "total = 0\n",
        "for index in range(6):\n",
        "  if marks[index] < 50:\n",
        "    continue\n",
        "  total += marks[index]\n",
        "  count += 1\n",
        "per = total/(count)\n",
        "print(per)"
      ],
      "metadata": {
        "colab": {
          "base_uri": "https://localhost:8080/"
        },
        "id": "7Dtk7HcU6o6F",
        "outputId": "0e525152-7874-47d5-edbe-79e6b41a52b5"
      },
      "execution_count": null,
      "outputs": [
        {
          "output_type": "stream",
          "name": "stdout",
          "text": [
            "81.8\n"
          ]
        }
      ]
    }
  ]
}